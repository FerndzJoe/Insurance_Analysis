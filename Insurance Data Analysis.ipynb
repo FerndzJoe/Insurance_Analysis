{
 "cells": [
  {
   "cell_type": "markdown",
   "id": "ead3e871",
   "metadata": {},
   "source": [
    "# Final Exam Project Submission\n",
    "\n",
    "### Course: COMPSCIX433.6-021\n",
    "#### Submission Due Date: Thursday August 24, 2023 \n",
    "\n",
    "### Title: Uncovering Insights: A Data-driven Analysis & Visualization of Insurance Data\n",
    "\n",
    "### Insurance Dataset\n",
    "> Provides customer insurance data to help predict if the customer will be interested in Vehicle Insurance\n",
    "\n",
    "### Team Members: Ryan Nichols and Joe Fernandez"
   ]
  },
  {
   "cell_type": "markdown",
   "id": "2fc76e44",
   "metadata": {},
   "source": [
    "### Problem Statement\n",
    "\n",
    "### Context :\n",
    "\n",
    "Insurance companies that sell life, health, and property and casualty insurance are using machine learning (ML) to drive improvements in customer service, fraud detection, and operational efficiency. The data provided by an Insurance company which is not excluded from other companies to getting advantage of ML. This company provides Health Insurance to its customers. We can build a model to predict whether the policyholders (customers) from past year will also be interested in Vehicle Insurance provided by the company.\n",
    "\n",
    "### Goal : Predict if the policyholders (customers) will be interested in Vehicle Insurance\n",
    "\n",
    "Reference: https://www.kaggle.com/datasets/arashnic/imbalanced-data-practice"
   ]
  },
  {
   "cell_type": "markdown",
   "id": "c18b5219",
   "metadata": {},
   "source": [
    "### Task:\n",
    "\n",
    "> #### 1. Perform an Exploratory Data Analysis and visualize the data\n",
    "> #### 2. Apply Machine Learning Models learned in the class and make predictions\n",
    "> #### 3. Provide conclusion based on the results\n",
    "> #### 4. Outline an approach to convert the learning into a business solution\n",
    "> \n",
    "### Available Datasets:\n",
    "> Use `insurance_train.csv` as Training dataset to apply various ML models\n",
    ">\n",
    "> Use `insurance_test.csv` as Test dataset to validate the accuracy of the ML models "
   ]
  },
  {
   "cell_type": "code",
   "execution_count": 34,
   "id": "9ff78361",
   "metadata": {},
   "outputs": [],
   "source": [
    "# Import required Python Packages to perform exploratory data analysis and visualize the data\n",
    "import pandas as pd\n",
    "import numpy as np\n",
    "\n",
    "import seaborn as sns\n",
    "import matplotlib.pyplot as plt\n",
    "%matplotlib inline\n",
    "\n",
    "from sklearn.model_selection import train_test_split\n",
    "from sklearn.metrics import confusion_matrix"
   ]
  },
  {
   "cell_type": "markdown",
   "id": "65140f27",
   "metadata": {},
   "source": [
    "#### Load the training dataset"
   ]
  },
  {
   "cell_type": "code",
   "execution_count": 64,
   "id": "bb180bbf",
   "metadata": {},
   "outputs": [],
   "source": [
    "df_train = pd.read_csv(\"insurance_train.csv\")\n",
    "df_test = pd.read_csv(\"insurance_test.csv\")"
   ]
  },
  {
   "cell_type": "code",
   "execution_count": 31,
   "id": "f36949ca",
   "metadata": {},
   "outputs": [
    {
     "data": {
      "text/html": [
       "<div>\n",
       "<style scoped>\n",
       "    .dataframe tbody tr th:only-of-type {\n",
       "        vertical-align: middle;\n",
       "    }\n",
       "\n",
       "    .dataframe tbody tr th {\n",
       "        vertical-align: top;\n",
       "    }\n",
       "\n",
       "    .dataframe thead th {\n",
       "        text-align: right;\n",
       "    }\n",
       "</style>\n",
       "<table border=\"1\" class=\"dataframe\">\n",
       "  <thead>\n",
       "    <tr style=\"text-align: right;\">\n",
       "      <th></th>\n",
       "      <th>id</th>\n",
       "      <th>Gender</th>\n",
       "      <th>Age</th>\n",
       "      <th>Driving_License</th>\n",
       "      <th>Region_Code</th>\n",
       "      <th>Previously_Insured</th>\n",
       "      <th>Vehicle_Age</th>\n",
       "      <th>Vehicle_Damage</th>\n",
       "      <th>Annual_Premium</th>\n",
       "      <th>Policy_Sales_Channel</th>\n",
       "      <th>Vintage</th>\n",
       "      <th>Response</th>\n",
       "    </tr>\n",
       "  </thead>\n",
       "  <tbody>\n",
       "    <tr>\n",
       "      <th>0</th>\n",
       "      <td>167647</td>\n",
       "      <td>Male</td>\n",
       "      <td>22</td>\n",
       "      <td>1</td>\n",
       "      <td>7.0</td>\n",
       "      <td>1</td>\n",
       "      <td>&lt; 1 Year</td>\n",
       "      <td>No</td>\n",
       "      <td>2630.0</td>\n",
       "      <td>152.0</td>\n",
       "      <td>16</td>\n",
       "      <td>0</td>\n",
       "    </tr>\n",
       "    <tr>\n",
       "      <th>1</th>\n",
       "      <td>17163</td>\n",
       "      <td>Male</td>\n",
       "      <td>42</td>\n",
       "      <td>1</td>\n",
       "      <td>28.0</td>\n",
       "      <td>0</td>\n",
       "      <td>1-2 Year</td>\n",
       "      <td>Yes</td>\n",
       "      <td>43327.0</td>\n",
       "      <td>26.0</td>\n",
       "      <td>135</td>\n",
       "      <td>0</td>\n",
       "    </tr>\n",
       "    <tr>\n",
       "      <th>2</th>\n",
       "      <td>32023</td>\n",
       "      <td>Female</td>\n",
       "      <td>66</td>\n",
       "      <td>1</td>\n",
       "      <td>33.0</td>\n",
       "      <td>0</td>\n",
       "      <td>1-2 Year</td>\n",
       "      <td>Yes</td>\n",
       "      <td>35841.0</td>\n",
       "      <td>124.0</td>\n",
       "      <td>253</td>\n",
       "      <td>0</td>\n",
       "    </tr>\n",
       "    <tr>\n",
       "      <th>3</th>\n",
       "      <td>87447</td>\n",
       "      <td>Female</td>\n",
       "      <td>22</td>\n",
       "      <td>1</td>\n",
       "      <td>33.0</td>\n",
       "      <td>0</td>\n",
       "      <td>&lt; 1 Year</td>\n",
       "      <td>No</td>\n",
       "      <td>27645.0</td>\n",
       "      <td>152.0</td>\n",
       "      <td>69</td>\n",
       "      <td>0</td>\n",
       "    </tr>\n",
       "    <tr>\n",
       "      <th>4</th>\n",
       "      <td>501933</td>\n",
       "      <td>Male</td>\n",
       "      <td>28</td>\n",
       "      <td>1</td>\n",
       "      <td>46.0</td>\n",
       "      <td>1</td>\n",
       "      <td>&lt; 1 Year</td>\n",
       "      <td>No</td>\n",
       "      <td>29023.0</td>\n",
       "      <td>152.0</td>\n",
       "      <td>211</td>\n",
       "      <td>0</td>\n",
       "    </tr>\n",
       "    <tr>\n",
       "      <th>5</th>\n",
       "      <td>295775</td>\n",
       "      <td>Female</td>\n",
       "      <td>25</td>\n",
       "      <td>1</td>\n",
       "      <td>25.0</td>\n",
       "      <td>1</td>\n",
       "      <td>&lt; 1 Year</td>\n",
       "      <td>No</td>\n",
       "      <td>27954.0</td>\n",
       "      <td>152.0</td>\n",
       "      <td>23</td>\n",
       "      <td>0</td>\n",
       "    </tr>\n",
       "    <tr>\n",
       "      <th>6</th>\n",
       "      <td>71711</td>\n",
       "      <td>Male</td>\n",
       "      <td>51</td>\n",
       "      <td>1</td>\n",
       "      <td>8.0</td>\n",
       "      <td>0</td>\n",
       "      <td>1-2 Year</td>\n",
       "      <td>Yes</td>\n",
       "      <td>2630.0</td>\n",
       "      <td>26.0</td>\n",
       "      <td>209</td>\n",
       "      <td>0</td>\n",
       "    </tr>\n",
       "    <tr>\n",
       "      <th>7</th>\n",
       "      <td>331781</td>\n",
       "      <td>Male</td>\n",
       "      <td>38</td>\n",
       "      <td>1</td>\n",
       "      <td>28.0</td>\n",
       "      <td>1</td>\n",
       "      <td>1-2 Year</td>\n",
       "      <td>No</td>\n",
       "      <td>2630.0</td>\n",
       "      <td>26.0</td>\n",
       "      <td>51</td>\n",
       "      <td>0</td>\n",
       "    </tr>\n",
       "    <tr>\n",
       "      <th>8</th>\n",
       "      <td>290704</td>\n",
       "      <td>Female</td>\n",
       "      <td>45</td>\n",
       "      <td>1</td>\n",
       "      <td>28.0</td>\n",
       "      <td>0</td>\n",
       "      <td>1-2 Year</td>\n",
       "      <td>Yes</td>\n",
       "      <td>55873.0</td>\n",
       "      <td>124.0</td>\n",
       "      <td>262</td>\n",
       "      <td>0</td>\n",
       "    </tr>\n",
       "    <tr>\n",
       "      <th>9</th>\n",
       "      <td>344792</td>\n",
       "      <td>Male</td>\n",
       "      <td>42</td>\n",
       "      <td>1</td>\n",
       "      <td>28.0</td>\n",
       "      <td>0</td>\n",
       "      <td>1-2 Year</td>\n",
       "      <td>Yes</td>\n",
       "      <td>27801.0</td>\n",
       "      <td>122.0</td>\n",
       "      <td>217</td>\n",
       "      <td>1</td>\n",
       "    </tr>\n",
       "  </tbody>\n",
       "</table>\n",
       "</div>"
      ],
      "text/plain": [
       "       id  Gender  Age  Driving_License  Region_Code  Previously_Insured  \\\n",
       "0  167647    Male   22                1          7.0                   1   \n",
       "1   17163    Male   42                1         28.0                   0   \n",
       "2   32023  Female   66                1         33.0                   0   \n",
       "3   87447  Female   22                1         33.0                   0   \n",
       "4  501933    Male   28                1         46.0                   1   \n",
       "5  295775  Female   25                1         25.0                   1   \n",
       "6   71711    Male   51                1          8.0                   0   \n",
       "7  331781    Male   38                1         28.0                   1   \n",
       "8  290704  Female   45                1         28.0                   0   \n",
       "9  344792    Male   42                1         28.0                   0   \n",
       "\n",
       "  Vehicle_Age Vehicle_Damage  Annual_Premium  Policy_Sales_Channel  Vintage  \\\n",
       "0    < 1 Year             No          2630.0                 152.0       16   \n",
       "1    1-2 Year            Yes         43327.0                  26.0      135   \n",
       "2    1-2 Year            Yes         35841.0                 124.0      253   \n",
       "3    < 1 Year             No         27645.0                 152.0       69   \n",
       "4    < 1 Year             No         29023.0                 152.0      211   \n",
       "5    < 1 Year             No         27954.0                 152.0       23   \n",
       "6    1-2 Year            Yes          2630.0                  26.0      209   \n",
       "7    1-2 Year             No          2630.0                  26.0       51   \n",
       "8    1-2 Year            Yes         55873.0                 124.0      262   \n",
       "9    1-2 Year            Yes         27801.0                 122.0      217   \n",
       "\n",
       "   Response  \n",
       "0         0  \n",
       "1         0  \n",
       "2         0  \n",
       "3         0  \n",
       "4         0  \n",
       "5         0  \n",
       "6         0  \n",
       "7         0  \n",
       "8         0  \n",
       "9         1  "
      ]
     },
     "execution_count": 31,
     "metadata": {},
     "output_type": "execute_result"
    }
   ],
   "source": [
    "df_train.head(10)"
   ]
  },
  {
   "cell_type": "code",
   "execution_count": 32,
   "id": "98d4ca3d",
   "metadata": {},
   "outputs": [
    {
     "data": {
      "text/html": [
       "<div>\n",
       "<style scoped>\n",
       "    .dataframe tbody tr th:only-of-type {\n",
       "        vertical-align: middle;\n",
       "    }\n",
       "\n",
       "    .dataframe tbody tr th {\n",
       "        vertical-align: top;\n",
       "    }\n",
       "\n",
       "    .dataframe thead th {\n",
       "        text-align: right;\n",
       "    }\n",
       "</style>\n",
       "<table border=\"1\" class=\"dataframe\">\n",
       "  <thead>\n",
       "    <tr style=\"text-align: right;\">\n",
       "      <th></th>\n",
       "      <th>id</th>\n",
       "      <th>Gender</th>\n",
       "      <th>Age</th>\n",
       "      <th>Driving_License</th>\n",
       "      <th>Region_Code</th>\n",
       "      <th>Previously_Insured</th>\n",
       "      <th>Vehicle_Age</th>\n",
       "      <th>Vehicle_Damage</th>\n",
       "      <th>Annual_Premium</th>\n",
       "      <th>Policy_Sales_Channel</th>\n",
       "      <th>Vintage</th>\n",
       "      <th>Response</th>\n",
       "    </tr>\n",
       "  </thead>\n",
       "  <tbody>\n",
       "    <tr>\n",
       "      <th>382144</th>\n",
       "      <td>340265</td>\n",
       "      <td>Male</td>\n",
       "      <td>24</td>\n",
       "      <td>1</td>\n",
       "      <td>49.0</td>\n",
       "      <td>0</td>\n",
       "      <td>&lt; 1 Year</td>\n",
       "      <td>Yes</td>\n",
       "      <td>2630.0</td>\n",
       "      <td>160.0</td>\n",
       "      <td>273</td>\n",
       "      <td>0</td>\n",
       "    </tr>\n",
       "    <tr>\n",
       "      <th>382145</th>\n",
       "      <td>213608</td>\n",
       "      <td>Female</td>\n",
       "      <td>25</td>\n",
       "      <td>1</td>\n",
       "      <td>6.0</td>\n",
       "      <td>1</td>\n",
       "      <td>&lt; 1 Year</td>\n",
       "      <td>No</td>\n",
       "      <td>22911.0</td>\n",
       "      <td>152.0</td>\n",
       "      <td>131</td>\n",
       "      <td>0</td>\n",
       "    </tr>\n",
       "    <tr>\n",
       "      <th>382146</th>\n",
       "      <td>157507</td>\n",
       "      <td>Male</td>\n",
       "      <td>56</td>\n",
       "      <td>1</td>\n",
       "      <td>17.0</td>\n",
       "      <td>0</td>\n",
       "      <td>1-2 Year</td>\n",
       "      <td>Yes</td>\n",
       "      <td>45936.0</td>\n",
       "      <td>124.0</td>\n",
       "      <td>244</td>\n",
       "      <td>0</td>\n",
       "    </tr>\n",
       "    <tr>\n",
       "      <th>382147</th>\n",
       "      <td>498091</td>\n",
       "      <td>Female</td>\n",
       "      <td>48</td>\n",
       "      <td>1</td>\n",
       "      <td>28.0</td>\n",
       "      <td>0</td>\n",
       "      <td>1-2 Year</td>\n",
       "      <td>Yes</td>\n",
       "      <td>42805.0</td>\n",
       "      <td>26.0</td>\n",
       "      <td>80</td>\n",
       "      <td>1</td>\n",
       "    </tr>\n",
       "    <tr>\n",
       "      <th>382148</th>\n",
       "      <td>89317</td>\n",
       "      <td>Male</td>\n",
       "      <td>47</td>\n",
       "      <td>1</td>\n",
       "      <td>43.0</td>\n",
       "      <td>0</td>\n",
       "      <td>1-2 Year</td>\n",
       "      <td>Yes</td>\n",
       "      <td>32774.0</td>\n",
       "      <td>124.0</td>\n",
       "      <td>105</td>\n",
       "      <td>0</td>\n",
       "    </tr>\n",
       "    <tr>\n",
       "      <th>382149</th>\n",
       "      <td>164549</td>\n",
       "      <td>Male</td>\n",
       "      <td>24</td>\n",
       "      <td>1</td>\n",
       "      <td>15.0</td>\n",
       "      <td>0</td>\n",
       "      <td>&lt; 1 Year</td>\n",
       "      <td>Yes</td>\n",
       "      <td>23938.0</td>\n",
       "      <td>152.0</td>\n",
       "      <td>105</td>\n",
       "      <td>0</td>\n",
       "    </tr>\n",
       "    <tr>\n",
       "      <th>382150</th>\n",
       "      <td>247064</td>\n",
       "      <td>Male</td>\n",
       "      <td>27</td>\n",
       "      <td>1</td>\n",
       "      <td>28.0</td>\n",
       "      <td>1</td>\n",
       "      <td>&lt; 1 Year</td>\n",
       "      <td>No</td>\n",
       "      <td>336395.0</td>\n",
       "      <td>152.0</td>\n",
       "      <td>144</td>\n",
       "      <td>0</td>\n",
       "    </tr>\n",
       "    <tr>\n",
       "      <th>382151</th>\n",
       "      <td>165293</td>\n",
       "      <td>Male</td>\n",
       "      <td>45</td>\n",
       "      <td>1</td>\n",
       "      <td>28.0</td>\n",
       "      <td>0</td>\n",
       "      <td>1-2 Year</td>\n",
       "      <td>Yes</td>\n",
       "      <td>40443.0</td>\n",
       "      <td>26.0</td>\n",
       "      <td>187</td>\n",
       "      <td>0</td>\n",
       "    </tr>\n",
       "    <tr>\n",
       "      <th>382152</th>\n",
       "      <td>383241</td>\n",
       "      <td>Female</td>\n",
       "      <td>28</td>\n",
       "      <td>1</td>\n",
       "      <td>28.0</td>\n",
       "      <td>1</td>\n",
       "      <td>&lt; 1 Year</td>\n",
       "      <td>No</td>\n",
       "      <td>25380.0</td>\n",
       "      <td>152.0</td>\n",
       "      <td>208</td>\n",
       "      <td>0</td>\n",
       "    </tr>\n",
       "    <tr>\n",
       "      <th>382153</th>\n",
       "      <td>401019</td>\n",
       "      <td>Female</td>\n",
       "      <td>29</td>\n",
       "      <td>1</td>\n",
       "      <td>18.0</td>\n",
       "      <td>1</td>\n",
       "      <td>&lt; 1 Year</td>\n",
       "      <td>No</td>\n",
       "      <td>30396.0</td>\n",
       "      <td>152.0</td>\n",
       "      <td>104</td>\n",
       "      <td>0</td>\n",
       "    </tr>\n",
       "  </tbody>\n",
       "</table>\n",
       "</div>"
      ],
      "text/plain": [
       "            id  Gender  Age  Driving_License  Region_Code  Previously_Insured  \\\n",
       "382144  340265    Male   24                1         49.0                   0   \n",
       "382145  213608  Female   25                1          6.0                   1   \n",
       "382146  157507    Male   56                1         17.0                   0   \n",
       "382147  498091  Female   48                1         28.0                   0   \n",
       "382148   89317    Male   47                1         43.0                   0   \n",
       "382149  164549    Male   24                1         15.0                   0   \n",
       "382150  247064    Male   27                1         28.0                   1   \n",
       "382151  165293    Male   45                1         28.0                   0   \n",
       "382152  383241  Female   28                1         28.0                   1   \n",
       "382153  401019  Female   29                1         18.0                   1   \n",
       "\n",
       "       Vehicle_Age Vehicle_Damage  Annual_Premium  Policy_Sales_Channel  \\\n",
       "382144    < 1 Year            Yes          2630.0                 160.0   \n",
       "382145    < 1 Year             No         22911.0                 152.0   \n",
       "382146    1-2 Year            Yes         45936.0                 124.0   \n",
       "382147    1-2 Year            Yes         42805.0                  26.0   \n",
       "382148    1-2 Year            Yes         32774.0                 124.0   \n",
       "382149    < 1 Year            Yes         23938.0                 152.0   \n",
       "382150    < 1 Year             No        336395.0                 152.0   \n",
       "382151    1-2 Year            Yes         40443.0                  26.0   \n",
       "382152    < 1 Year             No         25380.0                 152.0   \n",
       "382153    < 1 Year             No         30396.0                 152.0   \n",
       "\n",
       "        Vintage  Response  \n",
       "382144      273         0  \n",
       "382145      131         0  \n",
       "382146      244         0  \n",
       "382147       80         1  \n",
       "382148      105         0  \n",
       "382149      105         0  \n",
       "382150      144         0  \n",
       "382151      187         0  \n",
       "382152      208         0  \n",
       "382153      104         0  "
      ]
     },
     "execution_count": 32,
     "metadata": {},
     "output_type": "execute_result"
    }
   ],
   "source": [
    "df_train.tail(10)"
   ]
  },
  {
   "cell_type": "code",
   "execution_count": 26,
   "id": "c57380ec",
   "metadata": {},
   "outputs": [
    {
     "data": {
      "text/plain": [
       "(382154, 12)"
      ]
     },
     "execution_count": 26,
     "metadata": {},
     "output_type": "execute_result"
    }
   ],
   "source": [
    "# Let's find out the total number of rows and columns in this dataframe\n",
    "df.shape"
   ]
  },
  {
   "cell_type": "markdown",
   "id": "0adf6851",
   "metadata": {},
   "source": [
    "There are 382,154 rows and 12 columns in this Insurance Analysis dataset"
   ]
  },
  {
   "cell_type": "code",
   "execution_count": 27,
   "id": "74859de4",
   "metadata": {},
   "outputs": [
    {
     "data": {
      "text/plain": [
       "Index(['id', 'Gender', 'Age', 'Driving_License', 'Region_Code',\n",
       "       'Previously_Insured', 'Vehicle_Age', 'Vehicle_Damage', 'Annual_Premium',\n",
       "       'Policy_Sales_Channel', 'Vintage', 'Response'],\n",
       "      dtype='object')"
      ]
     },
     "execution_count": 27,
     "metadata": {},
     "output_type": "execute_result"
    }
   ],
   "source": [
    "# Let's explore the columns in the dataframe\n",
    "df.columns"
   ]
  },
  {
   "cell_type": "code",
   "execution_count": 29,
   "id": "648a7670",
   "metadata": {},
   "outputs": [
    {
     "name": "stdout",
     "output_type": "stream",
     "text": [
      "<class 'pandas.core.frame.DataFrame'>\n",
      "RangeIndex: 382154 entries, 0 to 382153\n",
      "Data columns (total 12 columns):\n",
      " #   Column                Non-Null Count   Dtype  \n",
      "---  ------                --------------   -----  \n",
      " 0   id                    382154 non-null  int64  \n",
      " 1   Gender                382154 non-null  object \n",
      " 2   Age                   382154 non-null  int64  \n",
      " 3   Driving_License       382154 non-null  int64  \n",
      " 4   Region_Code           382154 non-null  float64\n",
      " 5   Previously_Insured    382154 non-null  int64  \n",
      " 6   Vehicle_Age           382154 non-null  object \n",
      " 7   Vehicle_Damage        382154 non-null  object \n",
      " 8   Annual_Premium        382154 non-null  float64\n",
      " 9   Policy_Sales_Channel  382154 non-null  float64\n",
      " 10  Vintage               382154 non-null  int64  \n",
      " 11  Response              382154 non-null  int64  \n",
      "dtypes: float64(3), int64(6), object(3)\n",
      "memory usage: 35.0+ MB\n"
     ]
    }
   ],
   "source": [
    "# Let's also explore the data types and other details for this dataset\n",
    "df.info()"
   ]
  },
  {
   "cell_type": "markdown",
   "id": "e6fe96e9",
   "metadata": {},
   "source": [
    "#### Information in the Training dataset\n",
    "The dataset provides the following information:\n",
    "> ##### Demographics:  Gender, Age, Region Code Type, has a Driving License\n",
    ">\n",
    "> ##### Vehicles: Vehicle Age, Damage, Previously Insured\n",
    ">\n",
    "> ##### Policy: Premium, Sourcing Channel, Vintage"
   ]
  },
  {
   "cell_type": "code",
   "execution_count": 63,
   "id": "b331c5d9",
   "metadata": {},
   "outputs": [
    {
     "name": "stdout",
     "output_type": "stream",
     "text": [
      "The numerical features in the Insurance Dataset are:\n",
      "['id', 'Age', 'Driving_License', 'Region_Code', 'Previously_Insured', 'Annual_Premium', 'Policy_Sales_Channel', 'Vintage', 'Response']\n",
      "\n",
      "The Categorical features in the Insurance Dataset are:\n",
      "['Gender', 'Vehicle_Age', 'Vehicle_Damage']\n"
     ]
    }
   ],
   "source": [
    "# Identify all numerical features and categorical features\n",
    "\n",
    "# Numerical Features:\n",
    "numerical_features = df_train.select_dtypes(exclude=['object']).columns.tolist()\n",
    "print('The numerical features in the Insurance Dataset are:')\n",
    "print(numerical_features)\n",
    "\n",
    "# Categorical Features:\n",
    "\n",
    "categorical_features = df_train.select_dtypes(include=['object']).columns.tolist()\n",
    "print('\\nThe Categorical features in the Insurance Dataset are:')\n",
    "print(categorical_features)"
   ]
  },
  {
   "cell_type": "code",
   "execution_count": 44,
   "id": "1fe3d2cc",
   "metadata": {},
   "outputs": [
    {
     "data": {
      "text/html": [
       "<div>\n",
       "<style scoped>\n",
       "    .dataframe tbody tr th:only-of-type {\n",
       "        vertical-align: middle;\n",
       "    }\n",
       "\n",
       "    .dataframe tbody tr th {\n",
       "        vertical-align: top;\n",
       "    }\n",
       "\n",
       "    .dataframe thead th {\n",
       "        text-align: right;\n",
       "    }\n",
       "</style>\n",
       "<table border=\"1\" class=\"dataframe\">\n",
       "  <thead>\n",
       "    <tr style=\"text-align: right;\">\n",
       "      <th></th>\n",
       "      <th>count</th>\n",
       "      <th>mean</th>\n",
       "      <th>std</th>\n",
       "      <th>min</th>\n",
       "      <th>25%</th>\n",
       "      <th>50%</th>\n",
       "      <th>75%</th>\n",
       "      <th>max</th>\n",
       "    </tr>\n",
       "  </thead>\n",
       "  <tbody>\n",
       "    <tr>\n",
       "      <th>id</th>\n",
       "      <td>382154.0</td>\n",
       "      <td>234392.953477</td>\n",
       "      <td>139527.487326</td>\n",
       "      <td>1.0</td>\n",
       "      <td>115006.25</td>\n",
       "      <td>230461.5</td>\n",
       "      <td>345434.75</td>\n",
       "      <td>508145.0</td>\n",
       "    </tr>\n",
       "    <tr>\n",
       "      <th>Age</th>\n",
       "      <td>382154.0</td>\n",
       "      <td>38.545691</td>\n",
       "      <td>15.226897</td>\n",
       "      <td>20.0</td>\n",
       "      <td>25.00</td>\n",
       "      <td>36.0</td>\n",
       "      <td>49.00</td>\n",
       "      <td>85.0</td>\n",
       "    </tr>\n",
       "    <tr>\n",
       "      <th>Driving_License</th>\n",
       "      <td>382154.0</td>\n",
       "      <td>0.998108</td>\n",
       "      <td>0.043455</td>\n",
       "      <td>0.0</td>\n",
       "      <td>1.00</td>\n",
       "      <td>1.0</td>\n",
       "      <td>1.00</td>\n",
       "      <td>1.0</td>\n",
       "    </tr>\n",
       "    <tr>\n",
       "      <th>Region_Code</th>\n",
       "      <td>382154.0</td>\n",
       "      <td>26.406867</td>\n",
       "      <td>13.181241</td>\n",
       "      <td>0.0</td>\n",
       "      <td>15.00</td>\n",
       "      <td>28.0</td>\n",
       "      <td>35.00</td>\n",
       "      <td>52.0</td>\n",
       "    </tr>\n",
       "    <tr>\n",
       "      <th>Previously_Insured</th>\n",
       "      <td>382154.0</td>\n",
       "      <td>0.489182</td>\n",
       "      <td>0.499884</td>\n",
       "      <td>0.0</td>\n",
       "      <td>0.00</td>\n",
       "      <td>0.0</td>\n",
       "      <td>1.00</td>\n",
       "      <td>1.0</td>\n",
       "    </tr>\n",
       "    <tr>\n",
       "      <th>Annual_Premium</th>\n",
       "      <td>382154.0</td>\n",
       "      <td>30711.271362</td>\n",
       "      <td>17061.595532</td>\n",
       "      <td>2630.0</td>\n",
       "      <td>24546.00</td>\n",
       "      <td>31692.0</td>\n",
       "      <td>39447.75</td>\n",
       "      <td>540165.0</td>\n",
       "    </tr>\n",
       "    <tr>\n",
       "      <th>Policy_Sales_Channel</th>\n",
       "      <td>382154.0</td>\n",
       "      <td>111.939812</td>\n",
       "      <td>54.286511</td>\n",
       "      <td>1.0</td>\n",
       "      <td>26.00</td>\n",
       "      <td>145.0</td>\n",
       "      <td>152.00</td>\n",
       "      <td>163.0</td>\n",
       "    </tr>\n",
       "    <tr>\n",
       "      <th>Vintage</th>\n",
       "      <td>382154.0</td>\n",
       "      <td>154.189429</td>\n",
       "      <td>83.735107</td>\n",
       "      <td>10.0</td>\n",
       "      <td>81.00</td>\n",
       "      <td>154.0</td>\n",
       "      <td>227.00</td>\n",
       "      <td>299.0</td>\n",
       "    </tr>\n",
       "    <tr>\n",
       "      <th>Response</th>\n",
       "      <td>382154.0</td>\n",
       "      <td>0.163811</td>\n",
       "      <td>0.370104</td>\n",
       "      <td>0.0</td>\n",
       "      <td>0.00</td>\n",
       "      <td>0.0</td>\n",
       "      <td>0.00</td>\n",
       "      <td>1.0</td>\n",
       "    </tr>\n",
       "  </tbody>\n",
       "</table>\n",
       "</div>"
      ],
      "text/plain": [
       "                         count           mean            std     min  \\\n",
       "id                    382154.0  234392.953477  139527.487326     1.0   \n",
       "Age                   382154.0      38.545691      15.226897    20.0   \n",
       "Driving_License       382154.0       0.998108       0.043455     0.0   \n",
       "Region_Code           382154.0      26.406867      13.181241     0.0   \n",
       "Previously_Insured    382154.0       0.489182       0.499884     0.0   \n",
       "Annual_Premium        382154.0   30711.271362   17061.595532  2630.0   \n",
       "Policy_Sales_Channel  382154.0     111.939812      54.286511     1.0   \n",
       "Vintage               382154.0     154.189429      83.735107    10.0   \n",
       "Response              382154.0       0.163811       0.370104     0.0   \n",
       "\n",
       "                            25%       50%        75%       max  \n",
       "id                    115006.25  230461.5  345434.75  508145.0  \n",
       "Age                       25.00      36.0      49.00      85.0  \n",
       "Driving_License            1.00       1.0       1.00       1.0  \n",
       "Region_Code               15.00      28.0      35.00      52.0  \n",
       "Previously_Insured         0.00       0.0       1.00       1.0  \n",
       "Annual_Premium         24546.00   31692.0   39447.75  540165.0  \n",
       "Policy_Sales_Channel      26.00     145.0     152.00     163.0  \n",
       "Vintage                   81.00     154.0     227.00     299.0  \n",
       "Response                   0.00       0.0       0.00       1.0  "
      ]
     },
     "execution_count": 44,
     "metadata": {},
     "output_type": "execute_result"
    }
   ],
   "source": [
    "# Get statistical data for all the numerical features\n",
    "\n",
    "df_train.describe().T"
   ]
  },
  {
   "cell_type": "code",
   "execution_count": 59,
   "id": "923a39ac",
   "metadata": {},
   "outputs": [
    {
     "data": {
      "text/html": [
       "<div>\n",
       "<style scoped>\n",
       "    .dataframe tbody tr th:only-of-type {\n",
       "        vertical-align: middle;\n",
       "    }\n",
       "\n",
       "    .dataframe tbody tr th {\n",
       "        vertical-align: top;\n",
       "    }\n",
       "\n",
       "    .dataframe thead th {\n",
       "        text-align: right;\n",
       "    }\n",
       "</style>\n",
       "<table border=\"1\" class=\"dataframe\">\n",
       "  <thead>\n",
       "    <tr style=\"text-align: right;\">\n",
       "      <th></th>\n",
       "      <th>count</th>\n",
       "      <th>unique</th>\n",
       "      <th>top</th>\n",
       "      <th>freq</th>\n",
       "    </tr>\n",
       "  </thead>\n",
       "  <tbody>\n",
       "    <tr>\n",
       "      <th>Gender</th>\n",
       "      <td>382154</td>\n",
       "      <td>2</td>\n",
       "      <td>Male</td>\n",
       "      <td>205603</td>\n",
       "    </tr>\n",
       "    <tr>\n",
       "      <th>Vehicle_Age</th>\n",
       "      <td>382154</td>\n",
       "      <td>3</td>\n",
       "      <td>1-2 Year</td>\n",
       "      <td>200176</td>\n",
       "    </tr>\n",
       "    <tr>\n",
       "      <th>Vehicle_Damage</th>\n",
       "      <td>382154</td>\n",
       "      <td>2</td>\n",
       "      <td>No</td>\n",
       "      <td>198501</td>\n",
       "    </tr>\n",
       "  </tbody>\n",
       "</table>\n",
       "</div>"
      ],
      "text/plain": [
       "                 count unique       top    freq\n",
       "Gender          382154      2      Male  205603\n",
       "Vehicle_Age     382154      3  1-2 Year  200176\n",
       "Vehicle_Damage  382154      2        No  198501"
      ]
     },
     "execution_count": 59,
     "metadata": {},
     "output_type": "execute_result"
    }
   ],
   "source": [
    "# Get statistical data for all the Categorical features\n",
    "\n",
    "df_train.describe(include=['O']).T"
   ]
  },
  {
   "cell_type": "markdown",
   "id": "dbbbf511",
   "metadata": {},
   "source": [
    "Looking at the above data, we can see that all columns have 100% data. While this is good, let's ensure we don't have any null values. If we do, then we have to apply some data manipulation on the dataset"
   ]
  },
  {
   "cell_type": "code",
   "execution_count": 60,
   "id": "5f9a8248",
   "metadata": {},
   "outputs": [
    {
     "data": {
      "text/plain": [
       "id                      0\n",
       "Gender                  0\n",
       "Age                     0\n",
       "Driving_License         0\n",
       "Region_Code             0\n",
       "Previously_Insured      0\n",
       "Vehicle_Age             0\n",
       "Vehicle_Damage          0\n",
       "Annual_Premium          0\n",
       "Policy_Sales_Channel    0\n",
       "Vintage                 0\n",
       "Response                0\n",
       "dtype: int64"
      ]
     },
     "execution_count": 60,
     "metadata": {},
     "output_type": "execute_result"
    }
   ],
   "source": [
    "# Check if each column has any null values\n",
    "\n",
    "df_train.isnull().sum()"
   ]
  },
  {
   "cell_type": "code",
   "execution_count": 67,
   "id": "51fec2f4",
   "metadata": {},
   "outputs": [
    {
     "data": {
      "text/plain": [
       "id                      False\n",
       "Gender                  False\n",
       "Age                     False\n",
       "Driving_License         False\n",
       "Region_Code             False\n",
       "Previously_Insured      False\n",
       "Vehicle_Age             False\n",
       "Vehicle_Damage          False\n",
       "Annual_Premium          False\n",
       "Policy_Sales_Channel    False\n",
       "Vintage                 False\n",
       "Response                False\n",
       "dtype: bool"
      ]
     },
     "execution_count": 67,
     "metadata": {},
     "output_type": "execute_result"
    }
   ],
   "source": [
    "# Alternate way to check for null values. \n",
    "# If any column has null values, it will result in True\n",
    "df_train.isnull().any()"
   ]
  },
  {
   "cell_type": "markdown",
   "id": "988550c2",
   "metadata": {},
   "source": [
    "Based on the above data, it looks like we don't have any columns with null values\\\n",
    "Now let's find out how many unique values are in each column\\\n",
    "Note that we have 382,154 rows in the dataset"
   ]
  },
  {
   "cell_type": "code",
   "execution_count": 50,
   "id": "7e7d98d0",
   "metadata": {},
   "outputs": [
    {
     "name": "stdout",
     "output_type": "stream",
     "text": [
      "The column id has 382154 unique values\n",
      "The column Gender has 2 unique values\n",
      "The column Age has 66 unique values\n",
      "The column Driving_License has 2 unique values\n",
      "The column Region_Code has 53 unique values\n",
      "The column Previously_Insured has 2 unique values\n",
      "The column Vehicle_Age has 3 unique values\n",
      "The column Vehicle_Damage has 2 unique values\n",
      "The column Annual_Premium has 48993 unique values\n",
      "The column Policy_Sales_Channel has 156 unique values\n",
      "The column Vintage has 290 unique values\n",
      "The column Response has 2 unique values\n"
     ]
    }
   ],
   "source": [
    "# Find the count of unique values in the dataset\n",
    "\n",
    "for col in df_train.columns:\n",
    "    print(f'The column {col} has {df_train[col].nunique()} unique values')"
   ]
  },
  {
   "cell_type": "code",
   "execution_count": 53,
   "id": "c0abad09",
   "metadata": {},
   "outputs": [
    {
     "data": {
      "text/plain": [
       "array([1, 0])"
      ]
     },
     "execution_count": 53,
     "metadata": {},
     "output_type": "execute_result"
    }
   ],
   "source": [
    "# Let's explore Driving License column\n",
    "df_train.Driving_License.unique()"
   ]
  },
  {
   "cell_type": "code",
   "execution_count": 54,
   "id": "9286874a",
   "metadata": {},
   "outputs": [
    {
     "data": {
      "text/plain": [
       "1    381431\n",
       "0       723\n",
       "Name: Driving_License, dtype: int64"
      ]
     },
     "execution_count": 54,
     "metadata": {},
     "output_type": "execute_result"
    }
   ],
   "source": [
    "# There are two values 0 and 1. \n",
    "df_train.Driving_License.value_counts()"
   ]
  },
  {
   "cell_type": "code",
   "execution_count": 68,
   "id": "9b65adcb",
   "metadata": {},
   "outputs": [
    {
     "data": {
      "text/plain": [
       "array([1, 0])"
      ]
     },
     "execution_count": 68,
     "metadata": {},
     "output_type": "execute_result"
    }
   ],
   "source": [
    "# Similarly, let's explore Previously Insured column\n",
    "df_train.Previously_Insured.unique()"
   ]
  },
  {
   "cell_type": "code",
   "execution_count": 69,
   "id": "c3d29fa0",
   "metadata": {},
   "outputs": [
    {
     "data": {
      "text/plain": [
       "0    195211\n",
       "1    186943\n",
       "Name: Previously_Insured, dtype: int64"
      ]
     },
     "execution_count": 69,
     "metadata": {},
     "output_type": "execute_result"
    }
   ],
   "source": [
    "# There are two values 0 and 1. \n",
    "df_train.Previously_Insured.value_counts()"
   ]
  },
  {
   "cell_type": "code",
   "execution_count": 70,
   "id": "a3bc9af6",
   "metadata": {},
   "outputs": [
    {
     "data": {
      "text/plain": [
       "array(['No', 'Yes'], dtype=object)"
      ]
     },
     "execution_count": 70,
     "metadata": {},
     "output_type": "execute_result"
    }
   ],
   "source": [
    "# Simiarly, let's explore Vehicle Damage column\n",
    "df_train.Vehicle_Damage.unique()"
   ]
  },
  {
   "cell_type": "code",
   "execution_count": 72,
   "id": "a1b776ec",
   "metadata": {},
   "outputs": [
    {
     "data": {
      "text/plain": [
       "No     198501\n",
       "Yes    183653\n",
       "Name: Vehicle_Damage, dtype: int64"
      ]
     },
     "execution_count": 72,
     "metadata": {},
     "output_type": "execute_result"
    }
   ],
   "source": [
    "# There are two values 'Yes' and 'No'. \n",
    "df_train.Vehicle_Damage.value_counts()"
   ]
  },
  {
   "cell_type": "code",
   "execution_count": 73,
   "id": "310e2a1b",
   "metadata": {},
   "outputs": [
    {
     "data": {
      "text/plain": [
       "array(['< 1 Year', '1-2 Year', '> 2 Years'], dtype=object)"
      ]
     },
     "execution_count": 73,
     "metadata": {},
     "output_type": "execute_result"
    }
   ],
   "source": [
    "# Let's also explore Vehicle Age column\n",
    "df_train.Vehicle_Age.unique()"
   ]
  },
  {
   "cell_type": "code",
   "execution_count": 74,
   "id": "9a62cb26",
   "metadata": {},
   "outputs": [
    {
     "data": {
      "text/plain": [
       "1-2 Year     200176\n",
       "< 1 Year     166353\n",
       "> 2 Years     15625\n",
       "Name: Vehicle_Age, dtype: int64"
      ]
     },
     "execution_count": 74,
     "metadata": {},
     "output_type": "execute_result"
    }
   ],
   "source": [
    "# There are two values '< 1 Year', '1-2 Year' and '> 2 Years'. \n",
    "df_train.Vehicle_Age.value_counts()"
   ]
  },
  {
   "cell_type": "markdown",
   "id": "2c5974de",
   "metadata": {},
   "source": [
    "A kernel density estimate (KDE) plot is a method for visualizing the distribution of observations in a dataset, analogous to a histogram. KDE represents the data using a continuous probability density curve in one or more dimensions."
   ]
  },
  {
   "cell_type": "code",
   "execution_count": 86,
   "id": "0354a947",
   "metadata": {},
   "outputs": [
    {
     "data": {
      "image/png": "[encoded data removed]",
      "text/plain": [
       "<Figure size 900x500 with 1 Axes>"
      ]
     },
     "metadata": {},
     "output_type": "display_data"
    }
   ],
   "source": [
    "# Let's plot the KDE for Annual Premium based on vehicle age\n",
    "\n",
    "f, ax = plt.subplots(1, 1, figsize = (9,5))\n",
    "sns.kdeplot(df_train[df_train.Vehicle_Age == '< 1 Year'][\"Annual_Premium\"], ax = ax)\n",
    "sns.kdeplot(df_train[df_train.Vehicle_Age == '1-2 Year'][\"Annual_Premium\"], ax = ax)\n",
    "sns.kdeplot(df_train[df_train.Vehicle_Age == '> 2 Years'][\"Annual_Premium\"], ax = ax)\n",
    "plt.legend(['< 1 Year', '1-2 Year', '> 2 Years'])\n",
    "plt.show()"
   ]
  },
  {
   "cell_type": "markdown",
   "id": "9a6b34e2",
   "metadata": {},
   "source": [
    "Most of the cars are less than 2 years old"
   ]
  },
  {
   "cell_type": "code",
   "execution_count": 94,
   "id": "1d0dc7fe",
   "metadata": {},
   "outputs": [
    {
     "data": {
      "image/png": "[encoded data removed]",
      "text/plain": [
       "<Figure size 1000x500 with 2 Axes>"
      ]
     },
     "metadata": {},
     "output_type": "display_data"
    }
   ],
   "source": [
    "# Let's create a HeatMap to correlate numerical features\n",
    "\n",
    "plt.figure(figsize=(10,5))\n",
    "corr = df_train[numerical_features].corr()\n",
    "sns.heatmap(corr, annot=True, cmap='flare');"
   ]
  },
  {
   "cell_type": "code",
   "execution_count": null,
   "id": "51a7b8fb",
   "metadata": {},
   "outputs": [],
   "source": []
  }
 ],
 "metadata": {
  "kernelspec": {
   "display_name": "Python 3 (ipykernel)",
   "language": "python",
   "name": "python3"
  },
  "language_info": {
   "codemirror_mode": {
    "name": "ipython",
    "version": 3
   },
   "file_extension": ".py",
   "mimetype": "text/x-python",
   "name": "python",
   "nbconvert_exporter": "python",
   "pygments_lexer": "ipython3",
   "version": "3.10.11"
  }
 },
 "nbformat": 4,
 "nbformat_minor": 5
}
